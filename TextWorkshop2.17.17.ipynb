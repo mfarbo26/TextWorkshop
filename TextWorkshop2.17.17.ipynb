{
 "cells": [
  {
   "cell_type": "code",
   "execution_count": 1,
   "metadata": {
    "collapsed": false
   },
   "outputs": [
    {
     "name": "stdout",
     "output_type": "stream",
     "text": [
      "hello world\n"
     ]
    }
   ],
   "source": [
    "print(\"hello world\")"
   ]
  },
  {
   "cell_type": "code",
   "execution_count": 3,
   "metadata": {
    "collapsed": false
   },
   "outputs": [
    {
     "data": {
      "text/plain": [
       "'Hello world!I come in peace'"
      ]
     },
     "execution_count": 3,
     "metadata": {},
     "output_type": "execute_result"
    }
   ],
   "source": [
    "greet = \"Hello world!\"\n",
    "greet + \"I come in peace\""
   ]
  },
  {
   "cell_type": "code",
   "execution_count": 4,
   "metadata": {
    "collapsed": false
   },
   "outputs": [
    {
     "data": {
      "text/plain": [
       "'HELLO WORLD!'"
      ]
     },
     "execution_count": 4,
     "metadata": {},
     "output_type": "execute_result"
    }
   ],
   "source": [
    "greet.upper()"
   ]
  },
  {
   "cell_type": "code",
   "execution_count": 6,
   "metadata": {
    "collapsed": false
   },
   "outputs": [
    {
     "data": {
      "text/plain": [
       "12"
      ]
     },
     "execution_count": 6,
     "metadata": {},
     "output_type": "execute_result"
    }
   ],
   "source": [
    "len(greet)"
   ]
  },
  {
   "cell_type": "code",
   "execution_count": 8,
   "metadata": {
    "collapsed": false
   },
   "outputs": [
    {
     "name": "stdout",
     "output_type": "stream",
     "text": [
      "1807.36390976\n"
     ]
    }
   ],
   "source": [
    "num1 = 5678\n",
    "num2 = 3.141592\n",
    "result = num1/num2\n",
    "print(result)"
   ]
  },
  {
   "cell_type": "code",
   "execution_count": 9,
   "metadata": {
    "collapsed": false
   },
   "outputs": [
    {
     "data": {
      "text/plain": [
       "6"
      ]
     },
     "execution_count": 9,
     "metadata": {},
     "output_type": "execute_result"
    }
   ],
   "source": [
    "li = ['red', 'blue', 'green', 'black', 'white', 'pink']\n",
    "len(li)"
   ]
  },
  {
   "cell_type": "code",
   "execution_count": 11,
   "metadata": {
    "collapsed": false
   },
   "outputs": [
    {
     "data": {
      "text/plain": [
       "True"
      ]
     },
     "execution_count": 11,
     "metadata": {},
     "output_type": "execute_result"
    }
   ],
   "source": [
    "'blue' in li and 'yellow' not in li"
   ]
  },
  {
   "cell_type": "code",
   "execution_count": 13,
   "metadata": {
    "collapsed": false
   },
   "outputs": [
    {
     "name": "stdout",
     "output_type": "stream",
     "text": [
      "('red', 3)\n",
      "('red', 'is a color.')\n",
      "('blue', 4)\n",
      "('blue', 'is a color.')\n",
      "('green', 5)\n",
      "('green', 'is a color.')\n",
      "('black', 5)\n",
      "('black', 'is a color.')\n",
      "('white', 5)\n",
      "('white', 'is a color.')\n",
      "('pink', 4)\n",
      "('pink', 'is a color.')\n"
     ]
    }
   ],
   "source": [
    "for x in li:\n",
    "    print(x, len(x))\n",
    "    print(x, \"is a color.\")"
   ]
  },
  {
   "cell_type": "code",
   "execution_count": 15,
   "metadata": {
    "collapsed": false
   },
   "outputs": [
    {
     "data": {
      "text/plain": [
       "['white']"
      ]
     },
     "execution_count": 15,
     "metadata": {},
     "output_type": "execute_result"
    }
   ],
   "source": [
    "[x for x in li if 'w' in x]"
   ]
  },
  {
   "cell_type": "code",
   "execution_count": 17,
   "metadata": {
    "collapsed": false
   },
   "outputs": [
    {
     "data": {
      "text/plain": [
       "['redish', 'blueish', 'greenish', 'blackish', 'whiteish', 'pinkish']"
      ]
     },
     "execution_count": 17,
     "metadata": {},
     "output_type": "execute_result"
    }
   ],
   "source": [
    "[x+'ish' for x in li]"
   ]
  },
  {
   "cell_type": "code",
   "execution_count": 18,
   "metadata": {
    "collapsed": false
   },
   "outputs": [
    {
     "data": {
      "text/plain": [
       "[3, 4, 5, 5, 5, 4]"
      ]
     },
     "execution_count": 18,
     "metadata": {},
     "output_type": "execute_result"
    }
   ],
   "source": [
    "[len(x) for x in li]"
   ]
  },
  {
   "cell_type": "code",
   "execution_count": 20,
   "metadata": {
    "collapsed": false
   },
   "outputs": [
    {
     "data": {
      "text/plain": [
       "['green', 'black', 'white']"
      ]
     },
     "execution_count": 20,
     "metadata": {},
     "output_type": "execute_result"
    }
   ],
   "source": [
    "[x for x in li if len(x) >= 5]"
   ]
  },
  {
   "cell_type": "code",
   "execution_count": 21,
   "metadata": {
    "collapsed": false
   },
   "outputs": [
    {
     "data": {
      "text/plain": [
       "[3, 4, 5, 5]"
      ]
     },
     "execution_count": 21,
     "metadata": {},
     "output_type": "execute_result"
    }
   ],
   "source": [
    "[len(x) for x in li if 'e' in x]"
   ]
  },
  {
   "cell_type": "code",
   "execution_count": 22,
   "metadata": {
    "collapsed": false
   },
   "outputs": [
    {
     "data": {
      "text/plain": [
       "10"
      ]
     },
     "execution_count": 22,
     "metadata": {},
     "output_type": "execute_result"
    }
   ],
   "source": [
    "di = {'Homer':35, 'Marge':35, 'Bart':10, 'Lisa':8, 'Maggie':1}\n",
    "di['Bart']"
   ]
  },
  {
   "cell_type": "code",
   "execution_count": 23,
   "metadata": {
    "collapsed": false
   },
   "outputs": [
    {
     "data": {
      "text/plain": [
       "5"
      ]
     },
     "execution_count": 23,
     "metadata": {},
     "output_type": "execute_result"
    }
   ],
   "source": [
    "len(di)"
   ]
  },
  {
   "cell_type": "code",
   "execution_count": 24,
   "metadata": {
    "collapsed": true
   },
   "outputs": [],
   "source": [
    "import nltk"
   ]
  },
  {
   "cell_type": "code",
   "execution_count": 25,
   "metadata": {
    "collapsed": false
   },
   "outputs": [
    {
     "data": {
      "text/plain": [
       "['Hello', 'world', '!']"
      ]
     },
     "execution_count": 25,
     "metadata": {},
     "output_type": "execute_result"
    }
   ],
   "source": [
    "nltk.word_tokenize(greet)"
   ]
  },
  {
   "cell_type": "code",
   "execution_count": 27,
   "metadata": {
    "collapsed": false
   },
   "outputs": [
    {
     "data": {
      "text/plain": [
       "['You', 'have', \"n't\", 'seen', 'Star', 'Wars', '...', '?']"
      ]
     },
     "execution_count": 27,
     "metadata": {},
     "output_type": "execute_result"
    }
   ],
   "source": [
    "sent = \"You haven't seen Star Wars...?\"\n",
    "nltk.word_tokenize(sent)"
   ]
  },
  {
   "cell_type": "code",
   "execution_count": 35,
   "metadata": {
    "collapsed": false
   },
   "outputs": [
    {
     "name": "stdout",
     "output_type": "stream",
     "text": [
      "['rose', 'is', 'a', 'rose', 'is', 'a', 'rose', 'is', 'a', 'rose', '.']\n"
     ]
    }
   ],
   "source": [
    "sent = 'Rose is a rose is a rose is a rose.'\n",
    "toks = nltk.word_tokenize(sent.lower())\n",
    "print(toks)"
   ]
  },
  {
   "cell_type": "code",
   "execution_count": 36,
   "metadata": {
    "collapsed": false
   },
   "outputs": [
    {
     "data": {
      "text/plain": [
       "FreqDist({'.': 1, 'a': 3, 'is': 3, 'rose': 4})"
      ]
     },
     "execution_count": 36,
     "metadata": {},
     "output_type": "execute_result"
    }
   ],
   "source": [
    "freq = nltk.FreqDist(toks)\n",
    "freq"
   ]
  },
  {
   "cell_type": "code",
   "execution_count": 37,
   "metadata": {
    "collapsed": false
   },
   "outputs": [
    {
     "data": {
      "text/plain": [
       "[('rose', 4), ('a', 3), ('is', 3)]"
      ]
     },
     "execution_count": 37,
     "metadata": {},
     "output_type": "execute_result"
    }
   ],
   "source": [
    "freq.most_common(3)"
   ]
  },
  {
   "cell_type": "code",
   "execution_count": 38,
   "metadata": {
    "collapsed": false
   },
   "outputs": [
    {
     "data": {
      "text/plain": [
       "4"
      ]
     },
     "execution_count": 38,
     "metadata": {},
     "output_type": "execute_result"
    }
   ],
   "source": [
    "freq['rose']"
   ]
  },
  {
   "cell_type": "code",
   "execution_count": 39,
   "metadata": {
    "collapsed": false
   },
   "outputs": [
    {
     "data": {
      "text/plain": [
       "4"
      ]
     },
     "execution_count": 39,
     "metadata": {},
     "output_type": "execute_result"
    }
   ],
   "source": [
    "len(freq)"
   ]
  },
  {
   "cell_type": "code",
   "execution_count": 47,
   "metadata": {
    "collapsed": false
   },
   "outputs": [
    {
     "name": "stdout",
     "output_type": "stream",
     "text": [
      "fellow-citizens of the senate and of the house of representatives:\n",
      "\n",
      "among the vicissitudes incident to life no event could have filled me with greater anxieties than that of which the notification was transmitted by your order, and received on the 14th day of the present month. on the one hand, i was summoned by my country, whose voice i can never hear but with veneration and love, from a retreat which i had chosen with the fondest predilection, and, in my flattering hopes, with an immutable decision, as the asylum of my declining years -- a retreat which was rendered every day more necessary as well as more dear to me by the addition of habit to inclination, and of frequent interruptions in my health to the gradual waste committed on it by time. on the other hand, the magnitude and difficulty of the trust to which the voice of my country called me, being sufficient to awaken in the wisest and most experienced of her citizens a distrustful scrutiny into his qualifications, could not but overwhelm with despondence one who (inheriting inferior endowments from nature and unpracticed in the duties of civil administration) ought to be peculiarly conscious of his own deficiencies. in this conflict of emotions all i dare aver is that it has been my faithful study to collect my duty from a just appreciation of every circumstance by which it might be affected. all i dare hope is that if, in executing this task, i have been too much swayed by a grateful remembrance of former instances, or by an affectionate sensibility to this transcendent proof of the confidence of my fellow citizens, and have thence too little consulted my incapacity as well as disinclination for the weighty and untried cares before me, my error will be palliated by the motives which mislead me, and its consequences be judged by my country with some share of the partiality in which they originated.\n",
      "\n",
      "such being the impressions under which i have, in obedience to the public summons, repaired to the present station, it would be peculiarly improper to omit in this first official act my fervent supplications to that almighty being who rules over the universe, who presides in the councils of nations, and whose providential aids can supply every human defect, that his benediction may consecrate to the liberties and happiness of the people of the united states a government instituted by themselves for these essential purposes, and may enable every instrument employed in its administration to execute with success the functions allotted to his charge. in tendering this homage to the great author of every public and private good, i assure myself that it expresses your sentiments not less than my own, nor those of my fellow citizens at large less than either. no people can be bound to acknowledge and adore the invisible hand which conducts the affairs of men more than those of the united states. every step by which they have advanced to the character of an independent nation seems to have been distinguished by some token of providential agency; and in the important revolution just accomplished in the system of their united government the tranquil deliberations and voluntary consent of so many distinct communities from which the event has resulted can not be compared with the means by which most governments have been established without some return of pious gratitude, along with an humble anticipation of the future blessings which the past seem to presage. these reflections, arising out of the present crisis, have forced themselves too strongly on my mind to be suppressed. you will join with me, i trust, in thinking that there are none under the influence of which the proceedings of a new and free government can more auspiciously commence.\n",
      "\n",
      "by the article establishing the executive department it is made the duty of the president \"to recommend to your consideration such measures as he shall judge necessary and expedient.\" the circumstances under which i now meet you will acquit me from entering into that subject further than to refer to the great constitutional charter under which you are assembled, and which, in defining your powers, designates the objects to which your attention is to be given. it will be more consistent with those circumstances, and far more congenial with the feelings which actuate me, to substitute, in place of a recommendation of particular measures, the tribute that is due to the talents, the rectitude, and the patriotism which adorn the characters selected to devise and adopt them. in these honorable qualifications i behold the surest pledges that as on one side no local prejudices or attachments, no separate views nor party animosities, will misdirect the comprehensive and equal eye which ought to watch over this great assemblage of communities and interests, so, on another, that the foundation of our national policy will be laid in the pure and immutable principles of private morality, and the preeminence of free government be exemplified by all the attributes which can win the affections of its citizens and command the respect of the world. i dwell on this prospect with every satisfaction which an ardent love for my country can inspire, since there is no truth more thoroughly established than that there exists in the economy and course of nature an indissoluble union between virtue and happiness; between duty and advantage; between the genuine maxims of an honest and magnanimous policy and the solid rewards of public prosperity and felicity; since we ought to be no less persuaded that the propitious smiles of heaven can never be expected on a nation that disregards the eternal rules of order and right which heaven itself has ordained; and since the preservation of the sacred fire of liberty and the destiny of the republican model of government are justly considered, perhaps, as deeply, as finally, staked on the experiment entrusted to the hands of the american people.\n",
      "\n",
      "besides the ordinary objects submitted to your care, it will remain with your judgment to decide how far an exercise of the occasional power delegated by the fifth article of the constitution is rendered expedient at the present juncture by the nature of objections which have been urged against the system, or by the degree of inquietude which has given birth to them. instead of undertaking particular recommendations on this subject, in which i could be guided by no lights derived from official opportunities, i shall again give way to my entire confidence in your discernment and pursuit of the public good; for i assure myself that whilst you carefully avoid every alteration which might endanger the benefits of an united and effective government, or which ought to await the future lessons of experience, a reverence for the characteristic rights of freemen and a regard for the public harmony will sufficiently influence your deliberations on the question how far the former can be impregnably fortified or the latter be safely and advantageously promoted.\n",
      "\n",
      "to the foregoing observations i have one to add, which will be most properly addressed to the house of representatives. it concerns myself, and will therefore be as brief as possible. when i was first honored with a call into the service of my country, then on the eve of an arduous struggle for its liberties, the light in which i contemplated my duty required that i should renounce every pecuniary compensation. from this resolution i have in no instance departed; and being still under the impressions which produced it, i must decline as inapplicable to myself any share in the personal emoluments which may be indispensably included in a permanent provision for the executive department, and must accordingly pray that the pecuniary estimates for the station in which i am placed may during my continuance in it be limited to such actual expenditures as the public good may be thought to require.\n",
      "\n",
      "having thus imparted to you my sentiments as they have been awakened by the occasion which brings us together, i shall take my present leave; but not without resorting once more to the benign parent of the human race in humble supplication that, since he has been pleased to favor the american people with opportunities for deliberating in perfect tranquillity, and dispositions for deciding with unparalleled unanimity on a form of government for the security of their union and the advancement of their happiness, so his divine blessing may be equally conspicuous in the enlarged views, the temperate consultations, and the wise measures on which the success of this government must depend. \n",
      "\n"
     ]
    }
   ],
   "source": [
    "myfile = 'C:/Users/authuser/Desktop/inaugural/1789-Washington.txt'\n",
    "wtxt = open(myfile).read().lower()\n",
    "print(wtxt)"
   ]
  },
  {
   "cell_type": "code",
   "execution_count": 41,
   "metadata": {
    "collapsed": false
   },
   "outputs": [
    {
     "data": {
      "text/plain": [
       "8619"
      ]
     },
     "execution_count": 41,
     "metadata": {},
     "output_type": "execute_result"
    }
   ],
   "source": [
    "len(wtxt)"
   ]
  },
  {
   "cell_type": "code",
   "execution_count": 42,
   "metadata": {
    "collapsed": false
   },
   "outputs": [
    {
     "data": {
      "text/plain": [
       "True"
      ]
     },
     "execution_count": 42,
     "metadata": {},
     "output_type": "execute_result"
    }
   ],
   "source": [
    "'fellow citizens' in wtxt"
   ]
  },
  {
   "cell_type": "code",
   "execution_count": 49,
   "metadata": {
    "collapsed": false
   },
   "outputs": [
    {
     "data": {
      "text/plain": [
       "['fellow-citizens',\n",
       " 'of',\n",
       " 'the',\n",
       " 'senate',\n",
       " 'and',\n",
       " 'of',\n",
       " 'the',\n",
       " 'house',\n",
       " 'of',\n",
       " 'representatives',\n",
       " ':',\n",
       " 'among',\n",
       " 'the',\n",
       " 'vicissitudes',\n",
       " 'incident',\n",
       " 'to',\n",
       " 'life',\n",
       " 'no',\n",
       " 'event',\n",
       " 'could',\n",
       " 'have',\n",
       " 'filled',\n",
       " 'me',\n",
       " 'with',\n",
       " 'greater',\n",
       " 'anxieties',\n",
       " 'than',\n",
       " 'that',\n",
       " 'of',\n",
       " 'which',\n",
       " 'the',\n",
       " 'notification',\n",
       " 'was',\n",
       " 'transmitted',\n",
       " 'by',\n",
       " 'your',\n",
       " 'order',\n",
       " ',',\n",
       " 'and',\n",
       " 'received',\n",
       " 'on',\n",
       " 'the',\n",
       " '14th',\n",
       " 'day',\n",
       " 'of',\n",
       " 'the',\n",
       " 'present',\n",
       " 'month',\n",
       " '.',\n",
       " 'on',\n",
       " 'the',\n",
       " 'one',\n",
       " 'hand',\n",
       " ',',\n",
       " 'i',\n",
       " 'was',\n",
       " 'summoned',\n",
       " 'by',\n",
       " 'my',\n",
       " 'country',\n",
       " ',',\n",
       " 'whose',\n",
       " 'voice',\n",
       " 'i',\n",
       " 'can',\n",
       " 'never',\n",
       " 'hear',\n",
       " 'but',\n",
       " 'with',\n",
       " 'veneration',\n",
       " 'and',\n",
       " 'love',\n",
       " ',',\n",
       " 'from',\n",
       " 'a',\n",
       " 'retreat',\n",
       " 'which',\n",
       " 'i',\n",
       " 'had',\n",
       " 'chosen',\n",
       " 'with',\n",
       " 'the',\n",
       " 'fondest',\n",
       " 'predilection',\n",
       " ',',\n",
       " 'and',\n",
       " ',',\n",
       " 'in',\n",
       " 'my',\n",
       " 'flattering',\n",
       " 'hopes',\n",
       " ',',\n",
       " 'with',\n",
       " 'an',\n",
       " 'immutable',\n",
       " 'decision',\n",
       " ',',\n",
       " 'as',\n",
       " 'the',\n",
       " 'asylum',\n",
       " 'of',\n",
       " 'my',\n",
       " 'declining',\n",
       " 'years',\n",
       " '--',\n",
       " 'a',\n",
       " 'retreat',\n",
       " 'which',\n",
       " 'was',\n",
       " 'rendered',\n",
       " 'every',\n",
       " 'day',\n",
       " 'more',\n",
       " 'necessary',\n",
       " 'as',\n",
       " 'well',\n",
       " 'as',\n",
       " 'more',\n",
       " 'dear',\n",
       " 'to',\n",
       " 'me',\n",
       " 'by',\n",
       " 'the',\n",
       " 'addition',\n",
       " 'of',\n",
       " 'habit',\n",
       " 'to',\n",
       " 'inclination',\n",
       " ',',\n",
       " 'and',\n",
       " 'of',\n",
       " 'frequent',\n",
       " 'interruptions',\n",
       " 'in',\n",
       " 'my',\n",
       " 'health',\n",
       " 'to',\n",
       " 'the',\n",
       " 'gradual',\n",
       " 'waste',\n",
       " 'committed',\n",
       " 'on',\n",
       " 'it',\n",
       " 'by',\n",
       " 'time',\n",
       " '.',\n",
       " 'on',\n",
       " 'the',\n",
       " 'other',\n",
       " 'hand',\n",
       " ',',\n",
       " 'the',\n",
       " 'magnitude',\n",
       " 'and',\n",
       " 'difficulty',\n",
       " 'of',\n",
       " 'the',\n",
       " 'trust',\n",
       " 'to',\n",
       " 'which',\n",
       " 'the',\n",
       " 'voice',\n",
       " 'of',\n",
       " 'my',\n",
       " 'country',\n",
       " 'called',\n",
       " 'me',\n",
       " ',',\n",
       " 'being',\n",
       " 'sufficient',\n",
       " 'to',\n",
       " 'awaken',\n",
       " 'in',\n",
       " 'the',\n",
       " 'wisest',\n",
       " 'and',\n",
       " 'most',\n",
       " 'experienced',\n",
       " 'of',\n",
       " 'her',\n",
       " 'citizens',\n",
       " 'a',\n",
       " 'distrustful',\n",
       " 'scrutiny',\n",
       " 'into',\n",
       " 'his',\n",
       " 'qualifications',\n",
       " ',',\n",
       " 'could',\n",
       " 'not',\n",
       " 'but',\n",
       " 'overwhelm',\n",
       " 'with',\n",
       " 'despondence',\n",
       " 'one',\n",
       " 'who',\n",
       " '(',\n",
       " 'inheriting',\n",
       " 'inferior',\n",
       " 'endowments',\n",
       " 'from',\n",
       " 'nature',\n",
       " 'and',\n",
       " 'unpracticed',\n",
       " 'in',\n",
       " 'the',\n",
       " 'duties',\n",
       " 'of',\n",
       " 'civil',\n",
       " 'administration',\n",
       " ')',\n",
       " 'ought',\n",
       " 'to',\n",
       " 'be',\n",
       " 'peculiarly',\n",
       " 'conscious',\n",
       " 'of',\n",
       " 'his',\n",
       " 'own',\n",
       " 'deficiencies',\n",
       " '.',\n",
       " 'in',\n",
       " 'this',\n",
       " 'conflict',\n",
       " 'of',\n",
       " 'emotions',\n",
       " 'all',\n",
       " 'i',\n",
       " 'dare',\n",
       " 'aver',\n",
       " 'is',\n",
       " 'that',\n",
       " 'it',\n",
       " 'has',\n",
       " 'been',\n",
       " 'my',\n",
       " 'faithful',\n",
       " 'study',\n",
       " 'to',\n",
       " 'collect',\n",
       " 'my',\n",
       " 'duty',\n",
       " 'from',\n",
       " 'a',\n",
       " 'just',\n",
       " 'appreciation',\n",
       " 'of',\n",
       " 'every',\n",
       " 'circumstance',\n",
       " 'by',\n",
       " 'which',\n",
       " 'it',\n",
       " 'might',\n",
       " 'be',\n",
       " 'affected',\n",
       " '.',\n",
       " 'all',\n",
       " 'i',\n",
       " 'dare',\n",
       " 'hope',\n",
       " 'is',\n",
       " 'that',\n",
       " 'if',\n",
       " ',',\n",
       " 'in',\n",
       " 'executing',\n",
       " 'this',\n",
       " 'task',\n",
       " ',',\n",
       " 'i',\n",
       " 'have',\n",
       " 'been',\n",
       " 'too',\n",
       " 'much',\n",
       " 'swayed',\n",
       " 'by',\n",
       " 'a',\n",
       " 'grateful',\n",
       " 'remembrance',\n",
       " 'of',\n",
       " 'former',\n",
       " 'instances',\n",
       " ',',\n",
       " 'or',\n",
       " 'by',\n",
       " 'an',\n",
       " 'affectionate',\n",
       " 'sensibility',\n",
       " 'to',\n",
       " 'this',\n",
       " 'transcendent',\n",
       " 'proof',\n",
       " 'of',\n",
       " 'the',\n",
       " 'confidence',\n",
       " 'of',\n",
       " 'my',\n",
       " 'fellow',\n",
       " 'citizens',\n",
       " ',',\n",
       " 'and',\n",
       " 'have',\n",
       " 'thence',\n",
       " 'too',\n",
       " 'little',\n",
       " 'consulted',\n",
       " 'my',\n",
       " 'incapacity',\n",
       " 'as',\n",
       " 'well',\n",
       " 'as',\n",
       " 'disinclination',\n",
       " 'for',\n",
       " 'the',\n",
       " 'weighty',\n",
       " 'and',\n",
       " 'untried',\n",
       " 'cares',\n",
       " 'before',\n",
       " 'me',\n",
       " ',',\n",
       " 'my',\n",
       " 'error',\n",
       " 'will',\n",
       " 'be',\n",
       " 'palliated',\n",
       " 'by',\n",
       " 'the',\n",
       " 'motives',\n",
       " 'which',\n",
       " 'mislead',\n",
       " 'me',\n",
       " ',',\n",
       " 'and',\n",
       " 'its',\n",
       " 'consequences',\n",
       " 'be',\n",
       " 'judged',\n",
       " 'by',\n",
       " 'my',\n",
       " 'country',\n",
       " 'with',\n",
       " 'some',\n",
       " 'share',\n",
       " 'of',\n",
       " 'the',\n",
       " 'partiality',\n",
       " 'in',\n",
       " 'which',\n",
       " 'they',\n",
       " 'originated',\n",
       " '.',\n",
       " 'such',\n",
       " 'being',\n",
       " 'the',\n",
       " 'impressions',\n",
       " 'under',\n",
       " 'which',\n",
       " 'i',\n",
       " 'have',\n",
       " ',',\n",
       " 'in',\n",
       " 'obedience',\n",
       " 'to',\n",
       " 'the',\n",
       " 'public',\n",
       " 'summons',\n",
       " ',',\n",
       " 'repaired',\n",
       " 'to',\n",
       " 'the',\n",
       " 'present',\n",
       " 'station',\n",
       " ',',\n",
       " 'it',\n",
       " 'would',\n",
       " 'be',\n",
       " 'peculiarly',\n",
       " 'improper',\n",
       " 'to',\n",
       " 'omit',\n",
       " 'in',\n",
       " 'this',\n",
       " 'first',\n",
       " 'official',\n",
       " 'act',\n",
       " 'my',\n",
       " 'fervent',\n",
       " 'supplications',\n",
       " 'to',\n",
       " 'that',\n",
       " 'almighty',\n",
       " 'being',\n",
       " 'who',\n",
       " 'rules',\n",
       " 'over',\n",
       " 'the',\n",
       " 'universe',\n",
       " ',',\n",
       " 'who',\n",
       " 'presides',\n",
       " 'in',\n",
       " 'the',\n",
       " 'councils',\n",
       " 'of',\n",
       " 'nations',\n",
       " ',',\n",
       " 'and',\n",
       " 'whose',\n",
       " 'providential',\n",
       " 'aids',\n",
       " 'can',\n",
       " 'supply',\n",
       " 'every',\n",
       " 'human',\n",
       " 'defect',\n",
       " ',',\n",
       " 'that',\n",
       " 'his',\n",
       " 'benediction',\n",
       " 'may',\n",
       " 'consecrate',\n",
       " 'to',\n",
       " 'the',\n",
       " 'liberties',\n",
       " 'and',\n",
       " 'happiness',\n",
       " 'of',\n",
       " 'the',\n",
       " 'people',\n",
       " 'of',\n",
       " 'the',\n",
       " 'united',\n",
       " 'states',\n",
       " 'a',\n",
       " 'government',\n",
       " 'instituted',\n",
       " 'by',\n",
       " 'themselves',\n",
       " 'for',\n",
       " 'these',\n",
       " 'essential',\n",
       " 'purposes',\n",
       " ',',\n",
       " 'and',\n",
       " 'may',\n",
       " 'enable',\n",
       " 'every',\n",
       " 'instrument',\n",
       " 'employed',\n",
       " 'in',\n",
       " 'its',\n",
       " 'administration',\n",
       " 'to',\n",
       " 'execute',\n",
       " 'with',\n",
       " 'success',\n",
       " 'the',\n",
       " 'functions',\n",
       " 'allotted',\n",
       " 'to',\n",
       " 'his',\n",
       " 'charge',\n",
       " '.',\n",
       " 'in',\n",
       " 'tendering',\n",
       " 'this',\n",
       " 'homage',\n",
       " 'to',\n",
       " 'the',\n",
       " 'great',\n",
       " 'author',\n",
       " 'of',\n",
       " 'every',\n",
       " 'public',\n",
       " 'and',\n",
       " 'private',\n",
       " 'good',\n",
       " ',',\n",
       " 'i',\n",
       " 'assure',\n",
       " 'myself',\n",
       " 'that',\n",
       " 'it',\n",
       " 'expresses',\n",
       " 'your',\n",
       " 'sentiments',\n",
       " 'not',\n",
       " 'less',\n",
       " 'than',\n",
       " 'my',\n",
       " 'own',\n",
       " ',',\n",
       " 'nor',\n",
       " 'those',\n",
       " 'of',\n",
       " 'my',\n",
       " 'fellow',\n",
       " 'citizens',\n",
       " 'at',\n",
       " 'large',\n",
       " 'less',\n",
       " 'than',\n",
       " 'either',\n",
       " '.',\n",
       " 'no',\n",
       " 'people',\n",
       " 'can',\n",
       " 'be',\n",
       " 'bound',\n",
       " 'to',\n",
       " 'acknowledge',\n",
       " 'and',\n",
       " 'adore',\n",
       " 'the',\n",
       " 'invisible',\n",
       " 'hand',\n",
       " 'which',\n",
       " 'conducts',\n",
       " 'the',\n",
       " 'affairs',\n",
       " 'of',\n",
       " 'men',\n",
       " 'more',\n",
       " 'than',\n",
       " 'those',\n",
       " 'of',\n",
       " 'the',\n",
       " 'united',\n",
       " 'states',\n",
       " '.',\n",
       " 'every',\n",
       " 'step',\n",
       " 'by',\n",
       " 'which',\n",
       " 'they',\n",
       " 'have',\n",
       " 'advanced',\n",
       " 'to',\n",
       " 'the',\n",
       " 'character',\n",
       " 'of',\n",
       " 'an',\n",
       " 'independent',\n",
       " 'nation',\n",
       " 'seems',\n",
       " 'to',\n",
       " 'have',\n",
       " 'been',\n",
       " 'distinguished',\n",
       " 'by',\n",
       " 'some',\n",
       " 'token',\n",
       " 'of',\n",
       " 'providential',\n",
       " 'agency',\n",
       " ';',\n",
       " 'and',\n",
       " 'in',\n",
       " 'the',\n",
       " 'important',\n",
       " 'revolution',\n",
       " 'just',\n",
       " 'accomplished',\n",
       " 'in',\n",
       " 'the',\n",
       " 'system',\n",
       " 'of',\n",
       " 'their',\n",
       " 'united',\n",
       " 'government',\n",
       " 'the',\n",
       " 'tranquil',\n",
       " 'deliberations',\n",
       " 'and',\n",
       " 'voluntary',\n",
       " 'consent',\n",
       " 'of',\n",
       " 'so',\n",
       " 'many',\n",
       " 'distinct',\n",
       " 'communities',\n",
       " 'from',\n",
       " 'which',\n",
       " 'the',\n",
       " 'event',\n",
       " 'has',\n",
       " 'resulted',\n",
       " 'can',\n",
       " 'not',\n",
       " 'be',\n",
       " 'compared',\n",
       " 'with',\n",
       " 'the',\n",
       " 'means',\n",
       " 'by',\n",
       " 'which',\n",
       " 'most',\n",
       " 'governments',\n",
       " 'have',\n",
       " 'been',\n",
       " 'established',\n",
       " 'without',\n",
       " 'some',\n",
       " 'return',\n",
       " 'of',\n",
       " 'pious',\n",
       " 'gratitude',\n",
       " ',',\n",
       " 'along',\n",
       " 'with',\n",
       " 'an',\n",
       " 'humble',\n",
       " 'anticipation',\n",
       " 'of',\n",
       " 'the',\n",
       " 'future',\n",
       " 'blessings',\n",
       " 'which',\n",
       " 'the',\n",
       " 'past',\n",
       " 'seem',\n",
       " 'to',\n",
       " 'presage',\n",
       " '.',\n",
       " 'these',\n",
       " 'reflections',\n",
       " ',',\n",
       " 'arising',\n",
       " 'out',\n",
       " 'of',\n",
       " 'the',\n",
       " 'present',\n",
       " 'crisis',\n",
       " ',',\n",
       " 'have',\n",
       " 'forced',\n",
       " 'themselves',\n",
       " 'too',\n",
       " 'strongly',\n",
       " 'on',\n",
       " 'my',\n",
       " 'mind',\n",
       " 'to',\n",
       " 'be',\n",
       " 'suppressed',\n",
       " '.',\n",
       " 'you',\n",
       " 'will',\n",
       " 'join',\n",
       " 'with',\n",
       " 'me',\n",
       " ',',\n",
       " 'i',\n",
       " 'trust',\n",
       " ',',\n",
       " 'in',\n",
       " 'thinking',\n",
       " 'that',\n",
       " 'there',\n",
       " 'are',\n",
       " 'none',\n",
       " 'under',\n",
       " 'the',\n",
       " 'influence',\n",
       " 'of',\n",
       " 'which',\n",
       " 'the',\n",
       " 'proceedings',\n",
       " 'of',\n",
       " 'a',\n",
       " 'new',\n",
       " 'and',\n",
       " 'free',\n",
       " 'government',\n",
       " 'can',\n",
       " 'more',\n",
       " 'auspiciously',\n",
       " 'commence',\n",
       " '.',\n",
       " 'by',\n",
       " 'the',\n",
       " 'article',\n",
       " 'establishing',\n",
       " 'the',\n",
       " 'executive',\n",
       " 'department',\n",
       " 'it',\n",
       " 'is',\n",
       " 'made',\n",
       " 'the',\n",
       " 'duty',\n",
       " 'of',\n",
       " 'the',\n",
       " 'president',\n",
       " '``',\n",
       " 'to',\n",
       " 'recommend',\n",
       " 'to',\n",
       " 'your',\n",
       " 'consideration',\n",
       " 'such',\n",
       " 'measures',\n",
       " 'as',\n",
       " 'he',\n",
       " 'shall',\n",
       " 'judge',\n",
       " 'necessary',\n",
       " 'and',\n",
       " 'expedient',\n",
       " '.',\n",
       " \"''\",\n",
       " 'the',\n",
       " 'circumstances',\n",
       " 'under',\n",
       " 'which',\n",
       " 'i',\n",
       " 'now',\n",
       " 'meet',\n",
       " 'you',\n",
       " 'will',\n",
       " 'acquit',\n",
       " 'me',\n",
       " 'from',\n",
       " 'entering',\n",
       " 'into',\n",
       " 'that',\n",
       " 'subject',\n",
       " 'further',\n",
       " 'than',\n",
       " 'to',\n",
       " 'refer',\n",
       " 'to',\n",
       " 'the',\n",
       " 'great',\n",
       " 'constitutional',\n",
       " 'charter',\n",
       " 'under',\n",
       " 'which',\n",
       " 'you',\n",
       " 'are',\n",
       " 'assembled',\n",
       " ',',\n",
       " 'and',\n",
       " 'which',\n",
       " ',',\n",
       " 'in',\n",
       " 'defining',\n",
       " 'your',\n",
       " 'powers',\n",
       " ',',\n",
       " 'designates',\n",
       " 'the',\n",
       " 'objects',\n",
       " 'to',\n",
       " 'which',\n",
       " 'your',\n",
       " 'attention',\n",
       " 'is',\n",
       " 'to',\n",
       " 'be',\n",
       " 'given',\n",
       " '.',\n",
       " 'it',\n",
       " 'will',\n",
       " 'be',\n",
       " 'more',\n",
       " 'consistent',\n",
       " 'with',\n",
       " 'those',\n",
       " 'circumstances',\n",
       " ',',\n",
       " 'and',\n",
       " 'far',\n",
       " 'more',\n",
       " 'congenial',\n",
       " 'with',\n",
       " 'the',\n",
       " 'feelings',\n",
       " 'which',\n",
       " 'actuate',\n",
       " 'me',\n",
       " ',',\n",
       " 'to',\n",
       " 'substitute',\n",
       " ',',\n",
       " 'in',\n",
       " 'place',\n",
       " 'of',\n",
       " 'a',\n",
       " 'recommendation',\n",
       " 'of',\n",
       " 'particular',\n",
       " 'measures',\n",
       " ',',\n",
       " 'the',\n",
       " 'tribute',\n",
       " 'that',\n",
       " 'is',\n",
       " 'due',\n",
       " 'to',\n",
       " 'the',\n",
       " 'talents',\n",
       " ',',\n",
       " 'the',\n",
       " 'rectitude',\n",
       " ',',\n",
       " 'and',\n",
       " 'the',\n",
       " 'patriotism',\n",
       " 'which',\n",
       " 'adorn',\n",
       " 'the',\n",
       " 'characters',\n",
       " 'selected',\n",
       " 'to',\n",
       " 'devise',\n",
       " 'and',\n",
       " 'adopt',\n",
       " 'them',\n",
       " '.',\n",
       " 'in',\n",
       " 'these',\n",
       " 'honorable',\n",
       " 'qualifications',\n",
       " 'i',\n",
       " 'behold',\n",
       " 'the',\n",
       " 'surest',\n",
       " 'pledges',\n",
       " 'that',\n",
       " 'as',\n",
       " 'on',\n",
       " 'one',\n",
       " 'side',\n",
       " 'no',\n",
       " 'local',\n",
       " 'prejudices',\n",
       " 'or',\n",
       " 'attachments',\n",
       " ',',\n",
       " 'no',\n",
       " 'separate',\n",
       " 'views',\n",
       " 'nor',\n",
       " 'party',\n",
       " 'animosities',\n",
       " ',',\n",
       " 'will',\n",
       " 'misdirect',\n",
       " 'the',\n",
       " 'comprehensive',\n",
       " 'and',\n",
       " 'equal',\n",
       " 'eye',\n",
       " 'which',\n",
       " 'ought',\n",
       " 'to',\n",
       " 'watch',\n",
       " 'over',\n",
       " 'this',\n",
       " 'great',\n",
       " 'assemblage',\n",
       " 'of',\n",
       " 'communities',\n",
       " 'and',\n",
       " 'interests',\n",
       " ',',\n",
       " 'so',\n",
       " ',',\n",
       " 'on',\n",
       " 'another',\n",
       " ',',\n",
       " 'that',\n",
       " 'the',\n",
       " 'foundation',\n",
       " 'of',\n",
       " 'our',\n",
       " 'national',\n",
       " 'policy',\n",
       " 'will',\n",
       " 'be',\n",
       " 'laid',\n",
       " 'in',\n",
       " 'the',\n",
       " 'pure',\n",
       " 'and',\n",
       " 'immutable',\n",
       " 'principles',\n",
       " 'of',\n",
       " 'private',\n",
       " 'morality',\n",
       " ',',\n",
       " 'and',\n",
       " 'the',\n",
       " 'preeminence',\n",
       " 'of',\n",
       " 'free',\n",
       " 'government',\n",
       " 'be',\n",
       " 'exemplified',\n",
       " 'by',\n",
       " 'all',\n",
       " 'the',\n",
       " 'attributes',\n",
       " 'which',\n",
       " 'can',\n",
       " 'win',\n",
       " 'the',\n",
       " 'affections',\n",
       " 'of',\n",
       " 'its',\n",
       " 'citizens',\n",
       " 'and',\n",
       " 'command',\n",
       " 'the',\n",
       " 'respect',\n",
       " 'of',\n",
       " 'the',\n",
       " 'world',\n",
       " '.',\n",
       " 'i',\n",
       " 'dwell',\n",
       " 'on',\n",
       " 'this',\n",
       " 'prospect',\n",
       " 'with',\n",
       " 'every',\n",
       " 'satisfaction',\n",
       " 'which',\n",
       " 'an',\n",
       " 'ardent',\n",
       " 'love',\n",
       " 'for',\n",
       " 'my',\n",
       " 'country',\n",
       " 'can',\n",
       " 'inspire',\n",
       " ',',\n",
       " 'since',\n",
       " 'there',\n",
       " 'is',\n",
       " 'no',\n",
       " 'truth',\n",
       " 'more',\n",
       " 'thoroughly',\n",
       " 'established',\n",
       " 'than',\n",
       " 'that',\n",
       " 'there',\n",
       " 'exists',\n",
       " 'in',\n",
       " 'the',\n",
       " 'economy',\n",
       " 'and',\n",
       " 'course',\n",
       " 'of',\n",
       " 'nature',\n",
       " 'an',\n",
       " 'indissoluble',\n",
       " 'union',\n",
       " 'between',\n",
       " 'virtue',\n",
       " 'and',\n",
       " 'happiness',\n",
       " ';',\n",
       " 'between',\n",
       " 'duty',\n",
       " 'and',\n",
       " 'advantage',\n",
       " ';',\n",
       " 'between',\n",
       " 'the',\n",
       " 'genuine',\n",
       " 'maxims',\n",
       " 'of',\n",
       " 'an',\n",
       " 'honest',\n",
       " 'and',\n",
       " 'magnanimous',\n",
       " 'policy',\n",
       " 'and',\n",
       " 'the',\n",
       " 'solid',\n",
       " 'rewards',\n",
       " 'of',\n",
       " 'public',\n",
       " 'prosperity',\n",
       " 'and',\n",
       " 'felicity',\n",
       " ';',\n",
       " 'since',\n",
       " 'we',\n",
       " 'ought',\n",
       " 'to',\n",
       " 'be',\n",
       " 'no',\n",
       " 'less',\n",
       " 'persuaded',\n",
       " 'that',\n",
       " ...]"
      ]
     },
     "execution_count": 49,
     "metadata": {},
     "output_type": "execute_result"
    }
   ],
   "source": [
    "nltk.word_tokenize(wtxt)"
   ]
  },
  {
   "cell_type": "code",
   "execution_count": 50,
   "metadata": {
    "collapsed": false
   },
   "outputs": [
    {
     "data": {
      "text/plain": [
       "1537"
      ]
     },
     "execution_count": 50,
     "metadata": {},
     "output_type": "execute_result"
    }
   ],
   "source": [
    "wtokens = nltk.word_tokenize(wtxt)\n",
    "len(wtokens)"
   ]
  },
  {
   "cell_type": "code",
   "execution_count": 56,
   "metadata": {
    "collapsed": false
   },
   "outputs": [
    {
     "data": {
      "text/plain": [
       "23"
      ]
     },
     "execution_count": 56,
     "metadata": {},
     "output_type": "execute_result"
    }
   ],
   "source": [
    "wfreq = nltk.FreqDist(wtokens)\n",
    "wfreq['citizens']"
   ]
  },
  {
   "cell_type": "code",
   "execution_count": 57,
   "metadata": {
    "collapsed": false
   },
   "outputs": [
    {
     "data": {
      "text/plain": [
       "604"
      ]
     },
     "execution_count": 57,
     "metadata": {},
     "output_type": "execute_result"
    }
   ],
   "source": [
    "len(wfreq) "
   ]
  },
  {
   "cell_type": "code",
   "execution_count": 59,
   "metadata": {
    "collapsed": false
   },
   "outputs": [
    {
     "data": {
      "text/plain": [
       "[('the', 116),\n",
       " ('of', 71),\n",
       " (',', 70),\n",
       " ('to', 48),\n",
       " ('and', 48),\n",
       " ('which', 36),\n",
       " ('in', 31),\n",
       " ('.', 23),\n",
       " ('i', 23),\n",
       " ('be', 23),\n",
       " ('my', 22),\n",
       " ('by', 20),\n",
       " ('that', 18),\n",
       " ('with', 17),\n",
       " ('on', 15),\n",
       " ('a', 14),\n",
       " ('as', 14),\n",
       " ('have', 12),\n",
       " ('for', 12),\n",
       " ('it', 11),\n",
       " ('this', 10),\n",
       " ('an', 10),\n",
       " ('will', 10),\n",
       " ('every', 9),\n",
       " ('can', 9),\n",
       " ('your', 9),\n",
       " (';', 8),\n",
       " ('more', 8),\n",
       " ('me', 8),\n",
       " ('government', 8),\n",
       " ('no', 8),\n",
       " ('from', 7),\n",
       " ('been', 7),\n",
       " ('is', 7),\n",
       " ('public', 6),\n",
       " ('may', 6),\n",
       " ('than', 6),\n",
       " ('under', 5),\n",
       " ('his', 5),\n",
       " ('country', 5)]"
      ]
     },
     "execution_count": 59,
     "metadata": {},
     "output_type": "execute_result"
    }
   ],
   "source": [
    "wfreq.most_common(40)"
   ]
  },
  {
   "cell_type": "code",
   "execution_count": 61,
   "metadata": {
    "collapsed": false
   },
   "outputs": [
    {
     "data": {
      "text/plain": [
       "23"
      ]
     },
     "execution_count": 61,
     "metadata": {},
     "output_type": "execute_result"
    }
   ],
   "source": [
    "sentcount = wfreq['.'] + wfreq['?'] + wfreq['!']  # Assuming every sentence ends with ., ! or ?\n",
    "sentcount"
   ]
  },
  {
   "cell_type": "code",
   "execution_count": 63,
   "metadata": {
    "collapsed": false
   },
   "outputs": [
    {
     "data": {
      "text/plain": [
       "66"
      ]
     },
     "execution_count": 63,
     "metadata": {},
     "output_type": "execute_result"
    }
   ],
   "source": [
    "len(wtokens)/sentcount     # Average sentence length in number of words"
   ]
  },
  {
   "cell_type": "code",
   "execution_count": 64,
   "metadata": {
    "collapsed": false
   },
   "outputs": [
    {
     "data": {
      "text/plain": [
       "['opportunities',\n",
       " 'advantageously',\n",
       " 'consideration',\n",
       " 'circumstances',\n",
       " 'consultations',\n",
       " 'indispensably',\n",
       " 'distinguished',\n",
       " 'supplications',\n",
       " 'recommendations',\n",
       " 'interruptions',\n",
       " 'representatives',\n",
       " 'deliberations',\n",
       " 'administration',\n",
       " 'comprehensive',\n",
       " 'qualifications',\n",
       " 'constitutional',\n",
       " 'disinclination',\n",
       " 'recommendation',\n",
       " 'fellow-citizens',\n",
       " 'characteristic']"
      ]
     },
     "execution_count": 64,
     "metadata": {},
     "output_type": "execute_result"
    }
   ],
   "source": [
    "[w for w in wfreq if len(w) >= 13]       # all 13+ character words"
   ]
  },
  {
   "cell_type": "code",
   "execution_count": 65,
   "metadata": {
    "collapsed": false
   },
   "outputs": [
    {
     "name": "stdout",
     "output_type": "stream",
     "text": [
      "('opportunities', 13, 2)\n",
      "('advantageously', 14, 1)\n",
      "('consideration', 13, 1)\n",
      "('circumstances', 13, 2)\n",
      "('consultations', 13, 1)\n",
      "('indispensably', 13, 1)\n",
      "('distinguished', 13, 1)\n",
      "('supplications', 13, 1)\n",
      "('recommendations', 15, 1)\n",
      "('interruptions', 13, 1)\n",
      "('representatives', 15, 2)\n",
      "('deliberations', 13, 2)\n",
      "('administration', 14, 2)\n",
      "('comprehensive', 13, 1)\n",
      "('qualifications', 14, 2)\n",
      "('constitutional', 14, 1)\n",
      "('disinclination', 14, 1)\n",
      "('recommendation', 14, 1)\n",
      "('fellow-citizens', 15, 1)\n",
      "('characteristic', 14, 1)\n"
     ]
    }
   ],
   "source": [
    "long = [w for w in wfreq if len(w) >= 13] \n",
    "for w in long :\n",
    "    print(w, len(w), wfreq[w])               # long words tend to be less frequent"
   ]
  },
  {
   "cell_type": "code",
   "execution_count": null,
   "metadata": {
    "collapsed": true
   },
   "outputs": [],
   "source": []
  }
 ],
 "metadata": {
  "anaconda-cloud": {},
  "kernelspec": {
   "display_name": "Python [Root]",
   "language": "python",
   "name": "Python [Root]"
  },
  "language_info": {
   "codemirror_mode": {
    "name": "ipython",
    "version": 2
   },
   "file_extension": ".py",
   "mimetype": "text/x-python",
   "name": "python",
   "nbconvert_exporter": "python",
   "pygments_lexer": "ipython2",
   "version": "2.7.12"
  }
 },
 "nbformat": 4,
 "nbformat_minor": 0
}
